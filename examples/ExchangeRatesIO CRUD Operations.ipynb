{
 "cells": [
  {
   "cell_type": "markdown",
   "id": "4db8e73f",
   "metadata": {},
   "source": [
    "<h1 align = \"center\">CRUD Operation for FOREX Rates</h1>"
   ]
  },
  {
   "cell_type": "code",
   "execution_count": 7,
   "id": "ccecb60f",
   "metadata": {
    "ExecuteTime": {
     "end_time": "2025-01-13T08:18:13.858990Z",
     "start_time": "2025-01-13T08:18:13.842728Z"
    }
   },
   "outputs": [],
   "source": [
    "import os # miscellaneous os interfaces"
   ]
  },
  {
   "cell_type": "code",
   "execution_count": 1,
   "id": "02fcc953",
   "metadata": {
    "ExecuteTime": {
     "end_time": "2025-01-13T08:10:14.955392Z",
     "start_time": "2025-01-13T08:10:14.935228Z"
    }
   },
   "outputs": [],
   "source": [
    "import datetime as dt"
   ]
  },
  {
   "cell_type": "code",
   "execution_count": 6,
   "id": "d570e24c",
   "metadata": {
    "ExecuteTime": {
     "end_time": "2025-01-13T08:17:22.920466Z",
     "start_time": "2025-01-13T08:17:22.822293Z"
    }
   },
   "outputs": [],
   "source": [
    "from tqdm import tqdm as TQ # progress bar for loops"
   ]
  },
  {
   "cell_type": "code",
   "execution_count": 2,
   "id": "67820a3b",
   "metadata": {
    "ExecuteTime": {
     "end_time": "2025-01-13T08:10:24.467391Z",
     "start_time": "2025-01-13T08:10:22.488253Z"
    }
   },
   "outputs": [],
   "source": [
    "import pandas as pd\n",
    "\n",
    "%precision 3\n",
    "pd.set_option('display.max_rows', 50) # max. rows to show\n",
    "pd.set_option('display.max_columns', 15) # max. cols to show\n",
    "pd.options.display.float_format = '{:,.3f}'.format # float precisions"
   ]
  },
  {
   "cell_type": "code",
   "execution_count": 3,
   "id": "0c5b10b1",
   "metadata": {
    "ExecuteTime": {
     "end_time": "2025-01-13T08:10:55.453954Z",
     "start_time": "2025-01-13T08:10:54.897512Z"
    }
   },
   "outputs": [],
   "source": [
    "import forexrates"
   ]
  },
  {
   "cell_type": "code",
   "execution_count": 19,
   "id": "efe25e64",
   "metadata": {
    "ExecuteTime": {
     "end_time": "2025-01-13T08:27:39.685316Z",
     "start_time": "2025-01-13T08:27:39.071146Z"
    }
   },
   "outputs": [],
   "source": [
    "import connections # https://gist.github.com/ZenithClown/9700b120ec6cb1acb5ce7bdf4fe65dbf\n",
    "import datetime_ as dt_ # https://ds-gringotts.readthedocs.io/en/latest/dt_utils.html"
   ]
  },
  {
   "cell_type": "markdown",
   "id": "7d30a21b",
   "metadata": {},
   "source": [
    "## Argument Defination & Control\n",
    "\n",
    "The FOREX Rates can be fetched from [ExchangeRatesIO](https://exchangeratesapi.io/) and the same can be inserted into the database table. In this notebook, we've considered the database schema to follow the structure of [**`dataway`**](https://github.com/ZenithClown/dataway), else please modify the structure as per your requirement. The transaction table considers the schema (MS-SQL Server) like:\n",
    "\n",
    "```sql\n",
    "CREATE TABLE [meta].[currency_code] (\n",
    "    [currency_code] CHAR(3),\n",
    "    [currency_name] VARCHAR(64) NOT NULL,\n",
    "\n",
    "    -- ISO 4217 - Numeric Code for a Currency is also Unique\n",
    "    [numeric_code] CHAR(3) NOT NULL,\n",
    "    [decimal_unit] INTEGER DEFAULT 0,\n",
    "\n",
    "    CONSTRAINT [pk_currency_code] PRIMARY KEY NONCLUSTERED ([currency_code]),\n",
    "\n",
    "    CONSTRAINT [uq_currency_name] UNIQUE ([currency_name]),\n",
    "    CONSTRAINT [uq_currency_numeric_code] UNIQUE ([numeric_code])\n",
    ");\n",
    "\n",
    "\n",
    "CREATE TABLE [dbo].[foreign_exchange_rate] (\n",
    "    [_id] INTEGER PRIMARY KEY IDENTITY(1, 1),\n",
    "\n",
    "    -- currency is stored in the format <date>, <base>, <code>, <rate>\n",
    "    -- in addition, the data source is tracked to validate between different source\n",
    "    [effective_date]        DATE NOT NULL,\n",
    "    [base_currency_code]    CHAR(3) NOT NULL,\n",
    "    [target_currency_code]  CHAR(3) NOT NULL,\n",
    "    [foreign_exchange_rate] NUMERIC(18, 6) NOT NULL,\n",
    "\n",
    "    [data_source_id] CHAR(5) NOT NULL,\n",
    "\n",
    "    -- ? Sanity Check - Only one record for a date/currency pair from a data source\n",
    "    CONSTRAINT [uq_forex_record_source] UNIQUE(\n",
    "        [effective_date]\n",
    "        , [data_source_id]\n",
    "        , [base_currency_code]\n",
    "        , [target_currency_code]\n",
    "    ),\n",
    "\n",
    "    CONSTRAINT [fk_base_currency_code] FOREIGN KEY ([base_currency_code])\n",
    "        REFERENCES [meta].[currency_code] ([currency_code])\n",
    "        ON DELETE NO ACTION\n",
    "        ON UPDATE NO ACTION,\n",
    "\n",
    "    CONSTRAINT [fk_target_currency_code] FOREIGN KEY ([target_currency_code])\n",
    "        REFERENCES [meta].[currency_code] ([currency_code])\n",
    "        ON DELETE NO ACTION\n",
    "        ON UPDATE NO ACTION,\n",
    "\n",
    "    CONSTRAINT [fk_forex_data_source_id] FOREIGN KEY ([data_source_id])\n",
    "        REFERENCES [meta].[data_source] ([source_id])\n",
    "        ON DELETE NO ACTION\n",
    "        ON UPDATE NO ACTION\n",
    ");\n",
    "\n",
    "```"
   ]
  },
  {
   "cell_type": "code",
   "execution_count": 5,
   "id": "18176bbd",
   "metadata": {
    "ExecuteTime": {
     "end_time": "2025-01-13T08:17:08.839001Z",
     "start_time": "2025-01-13T08:17:08.827661Z"
    }
   },
   "outputs": [],
   "source": [
    "start, end = dt.date(2025, 1, 1), dt.date(2025, 1, 12)\n",
    "dates = list(dt_.date_range(start, end)) # please refer gist documentation"
   ]
  },
  {
   "cell_type": "code",
   "execution_count": 16,
   "id": "6ffddc7e",
   "metadata": {
    "ExecuteTime": {
     "end_time": "2025-01-13T08:22:56.903759Z",
     "start_time": "2025-01-13T08:22:56.888766Z"
    }
   },
   "outputs": [],
   "source": [
    "EXCHANGE_RATES_API_KEY = os.getenv(\"EXCHANGE_RATES_API_KEY\") or input(\"Enter API Key for Exchange Rates IO (exchangeratesapi.io): \")"
   ]
  },
  {
   "cell_type": "code",
   "execution_count": 18,
   "id": "c10f5797",
   "metadata": {
    "ExecuteTime": {
     "end_time": "2025-01-13T08:26:45.520990Z",
     "start_time": "2025-01-13T08:26:39.759826Z"
    }
   },
   "outputs": [
    {
     "name": "stderr",
     "output_type": "stream",
     "text": [
      "Fetching FOREX Rates from 2025-01-01 to 2025-01-12 (= 11):: 100%|█████████████████████████████████████████████████████████████████████████████████████████████████████████████████| 12/12 [00:05<00:00,  2.11it/s]\n"
     ]
    },
    {
     "data": {
      "text/html": [
       "<div>\n",
       "<style scoped>\n",
       "    .dataframe tbody tr th:only-of-type {\n",
       "        vertical-align: middle;\n",
       "    }\n",
       "\n",
       "    .dataframe tbody tr th {\n",
       "        vertical-align: top;\n",
       "    }\n",
       "\n",
       "    .dataframe thead th {\n",
       "        text-align: right;\n",
       "    }\n",
       "</style>\n",
       "<table border=\"1\" class=\"dataframe\">\n",
       "  <thead>\n",
       "    <tr style=\"text-align: right;\">\n",
       "      <th></th>\n",
       "      <th>effective_date</th>\n",
       "      <th>base_currency_code</th>\n",
       "      <th>target_currency_code</th>\n",
       "      <th>foreign_exchange_rate</th>\n",
       "      <th>data_source_id</th>\n",
       "    </tr>\n",
       "  </thead>\n",
       "  <tbody>\n",
       "    <tr>\n",
       "      <th>376</th>\n",
       "      <td>2025-01-03</td>\n",
       "      <td>EUR</td>\n",
       "      <td>CUC</td>\n",
       "      <td>1.031</td>\n",
       "      <td>ERAPI</td>\n",
       "    </tr>\n",
       "    <tr>\n",
       "      <th>1565</th>\n",
       "      <td>2025-01-10</td>\n",
       "      <td>EUR</td>\n",
       "      <td>CRC</td>\n",
       "      <td>517.624</td>\n",
       "      <td>ERAPI</td>\n",
       "    </tr>\n",
       "    <tr>\n",
       "      <th>454</th>\n",
       "      <td>2025-01-03</td>\n",
       "      <td>EUR</td>\n",
       "      <td>PEN</td>\n",
       "      <td>3.872</td>\n",
       "      <td>ERAPI</td>\n",
       "    </tr>\n",
       "  </tbody>\n",
       "</table>\n",
       "</div>"
      ],
      "text/plain": [
       "     effective_date base_currency_code target_currency_code  \\\n",
       "376      2025-01-03                EUR                  CUC   \n",
       "1565     2025-01-10                EUR                  CRC   \n",
       "454      2025-01-03                EUR                  PEN   \n",
       "\n",
       "      foreign_exchange_rate data_source_id  \n",
       "376                   1.031          ERAPI  \n",
       "1565                517.624          ERAPI  \n",
       "454                   3.872          ERAPI  "
      ]
     },
     "execution_count": 18,
     "metadata": {},
     "output_type": "execute_result"
    }
   ],
   "source": [
    "rates = pd.concat([\n",
    "    forexrates.api.ExchangeRatesAPI(apikey = EXCHANGE_RATES_API_KEY, endpoint = date.strftime(\"%Y-%m-%d\")) \\\n",
    "        .get(parsewith = forexrates.io.dataframe.exchangeratesio) for date in TQ(dates, desc = f\"Fetching FOREX Rates from {start} to {end} (= {(end - start).days}):\")\n",
    "], ignore_index = True)\n",
    "\n",
    "rates[\"data_source_id\"] = \"ERAPI\"\n",
    "rates.sample(3)"
   ]
  },
  {
   "cell_type": "code",
   "execution_count": 20,
   "id": "4774e907",
   "metadata": {
    "ExecuteTime": {
     "end_time": "2025-01-13T08:28:41.861182Z",
     "start_time": "2025-01-13T08:28:40.585933Z"
    }
   },
   "outputs": [],
   "source": [
    "conn, cur, engine, server = connections.connect(...)"
   ]
  },
  {
   "cell_type": "code",
   "execution_count": 21,
   "id": "2f9922db",
   "metadata": {
    "ExecuteTime": {
     "end_time": "2025-01-13T08:29:18.175113Z",
     "start_time": "2025-01-13T08:29:17.179298Z"
    }
   },
   "outputs": [
    {
     "data": {
      "text/plain": [
       "-1"
      ]
     },
     "execution_count": 21,
     "metadata": {},
     "output_type": "execute_result"
    }
   ],
   "source": [
    "rates.to_sql(\"foreign_exchange_rate\", engine, schema = \"dbo\", index = False, if_exists = \"append\") # insert into database"
   ]
  }
 ],
 "metadata": {
  "kernelspec": {
   "display_name": "TensorFlow CPU (v2.12.0)",
   "language": "python",
   "name": "tensorflow"
  },
  "language_info": {
   "codemirror_mode": {
    "name": "ipython",
    "version": 3
   },
   "file_extension": ".py",
   "mimetype": "text/x-python",
   "name": "python",
   "nbconvert_exporter": "python",
   "pygments_lexer": "ipython3",
   "version": "3.10.9"
  }
 },
 "nbformat": 4,
 "nbformat_minor": 5
}
