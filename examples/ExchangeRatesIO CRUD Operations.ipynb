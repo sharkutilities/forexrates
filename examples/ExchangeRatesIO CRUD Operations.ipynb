{
 "cells": [
  {
   "cell_type": "code",
   "execution_count": 1,
   "id": "ea580397",
   "metadata": {
    "ExecuteTime": {
     "end_time": "2025-04-02T05:57:50.416686Z",
     "start_time": "2025-04-02T05:57:50.397635Z"
    }
   },
   "outputs": [],
   "source": [
    "import os # miscellaneous os interfaces"
   ]
  },
  {
   "cell_type": "code",
   "execution_count": 2,
   "id": "c8380263",
   "metadata": {
    "ExecuteTime": {
     "end_time": "2025-04-02T05:57:50.432549Z",
     "start_time": "2025-04-02T05:57:50.420683Z"
    }
   },
   "outputs": [],
   "source": [
    "import datetime as dt   # python core datetime utility module\n",
    "import datetime_ as dt_ # https://ds-gringotts.readthedocs.io/en/latest/modules/utils/dtutils.html"
   ]
  },
  {
   "cell_type": "code",
   "execution_count": 3,
   "id": "f1de052d",
   "metadata": {
    "ExecuteTime": {
     "end_time": "2025-04-02T05:57:50.464534Z",
     "start_time": "2025-04-02T05:57:50.434526Z"
    }
   },
   "outputs": [],
   "source": [
    "from tqdm import tqdm as TQ # progress bar for loops"
   ]
  },
  {
   "cell_type": "code",
   "execution_count": 4,
   "id": "a6f1ba5b",
   "metadata": {
    "ExecuteTime": {
     "end_time": "2025-04-02T05:57:51.943892Z",
     "start_time": "2025-04-02T05:57:50.468541Z"
    }
   },
   "outputs": [],
   "source": [
    "import pandas as pd\n",
    "\n",
    "%precision 3\n",
    "pd.set_option('display.max_rows', 50) # max. rows to show\n",
    "pd.set_option('display.max_columns', 15) # max. cols to show\n",
    "pd.options.display.float_format = '{:,.3f}'.format # float precisions"
   ]
  },
  {
   "cell_type": "code",
   "execution_count": 5,
   "id": "c826bc6f",
   "metadata": {
    "ExecuteTime": {
     "end_time": "2025-04-02T05:57:52.284555Z",
     "start_time": "2025-04-02T05:57:51.945205Z"
    }
   },
   "outputs": [],
   "source": [
    "import forexrates # a simple interface to fetch data from multiple sources"
   ]
  },
  {
   "cell_type": "code",
   "execution_count": 6,
   "id": "2de146d4",
   "metadata": {
    "ExecuteTime": {
     "end_time": "2025-04-02T05:57:52.300515Z",
     "start_time": "2025-04-02T05:57:52.288475Z"
    }
   },
   "outputs": [],
   "source": [
    "start, end = dt.date(2015, 1, 1), dt.date(2015, 1, 5)\n",
    "dates = list(dt_.date_range(start, end)) # please refer gist documentation"
   ]
  },
  {
   "cell_type": "code",
   "execution_count": 7,
   "id": "1fb547e7",
   "metadata": {
    "ExecuteTime": {
     "end_time": "2025-04-02T05:57:54.244885Z",
     "start_time": "2025-04-02T05:57:52.303443Z"
    }
   },
   "outputs": [
    {
     "name": "stdout",
     "output_type": "stream",
     "text": [
      "Enter API Key for Exchange Rates IO (exchangeratesapi.io): 89f9a1b9e6f36791a0544545c528d308\n"
     ]
    }
   ],
   "source": [
    "EXCHANGE_RATES_API_KEY = input(\"Enter API Key for Exchange Rates IO (exchangeratesapi.io): \") or os.getenv(\"EXCHANGE_RATES_API_KEY\")"
   ]
  },
  {
   "cell_type": "code",
   "execution_count": 8,
   "id": "1062945f",
   "metadata": {
    "ExecuteTime": {
     "end_time": "2025-04-02T05:57:56.797260Z",
     "start_time": "2025-04-02T05:57:54.247866Z"
    }
   },
   "outputs": [
    {
     "name": "stderr",
     "output_type": "stream",
     "text": [
      "Fetching FOREX Rates from 2015-01-01 to 2015-01-05 (= 5):: 100%|████████████████████████████████████████████████████████████████████████████████████████████████████████████████████| 5/5 [00:02<00:00,  1.99it/s]\n"
     ]
    }
   ],
   "source": [
    "data = [\n",
    "    forexrates.api.ExchangeRatesAPI(apikey = EXCHANGE_RATES_API_KEY, endpoint = date.strftime(\"%Y-%m-%d\")).get()\n",
    "    for date in TQ(dates, desc = f\"Fetching FOREX Rates from {start} to {end} (= {(end - start).days + 1}):\")\n",
    "]"
   ]
  },
  {
   "cell_type": "code",
   "execution_count": 9,
   "id": "d4dcb61b",
   "metadata": {
    "ExecuteTime": {
     "end_time": "2025-04-02T05:57:56.859968Z",
     "start_time": "2025-04-02T05:57:56.800284Z"
    }
   },
   "outputs": [
    {
     "name": "stderr",
     "output_type": "stream",
     "text": [
      "Parsing Records...: 100%|██████████████████████████████████████████████████████████████████████████████████████████████████████████████████████████████████████████████████████████| 5/5 [00:00<00:00, 178.72it/s]\n"
     ]
    },
    {
     "data": {
      "text/html": [
       "<div>\n",
       "<style scoped>\n",
       "    .dataframe tbody tr th:only-of-type {\n",
       "        vertical-align: middle;\n",
       "    }\n",
       "\n",
       "    .dataframe tbody tr th {\n",
       "        vertical-align: top;\n",
       "    }\n",
       "\n",
       "    .dataframe thead th {\n",
       "        text-align: right;\n",
       "    }\n",
       "</style>\n",
       "<table border=\"1\" class=\"dataframe\">\n",
       "  <thead>\n",
       "    <tr style=\"text-align: right;\">\n",
       "      <th></th>\n",
       "      <th>effective_date</th>\n",
       "      <th>base_currency_code</th>\n",
       "      <th>target_currency_code</th>\n",
       "      <th>foreign_exchange_rate</th>\n",
       "    </tr>\n",
       "  </thead>\n",
       "  <tbody>\n",
       "    <tr>\n",
       "      <th>306</th>\n",
       "      <td>2015-01-02</td>\n",
       "      <td>EUR</td>\n",
       "      <td>TTD</td>\n",
       "      <td>7.713</td>\n",
       "    </tr>\n",
       "    <tr>\n",
       "      <th>380</th>\n",
       "      <td>2015-01-03</td>\n",
       "      <td>EUR</td>\n",
       "      <td>GHS</td>\n",
       "      <td>3.854</td>\n",
       "    </tr>\n",
       "    <tr>\n",
       "      <th>93</th>\n",
       "      <td>2015-01-01</td>\n",
       "      <td>EUR</td>\n",
       "      <td>MMK</td>\n",
       "      <td>1,244.774</td>\n",
       "    </tr>\n",
       "  </tbody>\n",
       "</table>\n",
       "</div>"
      ],
      "text/plain": [
       "    effective_date base_currency_code target_currency_code  \\\n",
       "306     2015-01-02                EUR                  TTD   \n",
       "380     2015-01-03                EUR                  GHS   \n",
       "93      2015-01-01                EUR                  MMK   \n",
       "\n",
       "     foreign_exchange_rate  \n",
       "306                  7.713  \n",
       "380                  3.854  \n",
       "93               1,244.774  "
      ]
     },
     "execution_count": 9,
     "metadata": {},
     "output_type": "execute_result"
    }
   ],
   "source": [
    "parser = forexrates.io.dataframe.ExchangeRatesIO(data)\n",
    "dataframe = parser.dataframe()\n",
    "\n",
    "dataframe.sample(3)"
   ]
  }
 ],
 "metadata": {
  "kernelspec": {
   "display_name": "TensorFlow CPU (v2.12.0)",
   "language": "python",
   "name": "tensorflow"
  },
  "language_info": {
   "codemirror_mode": {
    "name": "ipython",
    "version": 3
   },
   "file_extension": ".py",
   "mimetype": "text/x-python",
   "name": "python",
   "nbconvert_exporter": "python",
   "pygments_lexer": "ipython3",
   "version": "3.10.9"
  }
 },
 "nbformat": 4,
 "nbformat_minor": 5
}
